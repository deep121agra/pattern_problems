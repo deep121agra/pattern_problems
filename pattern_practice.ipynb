{
 "cells": [
  {
   "cell_type": "code",
   "execution_count": 15,
   "id": "2f5ab981",
   "metadata": {},
   "outputs": [
    {
     "name": "stdout",
     "output_type": "stream",
     "text": [
      "plese enter num of lines5\n",
      "please enter a number of stars4\n",
      "***\n",
      "***\n",
      "***\n",
      "***\n",
      "***\n"
     ]
    }
   ],
   "source": [
    "x=int(input('plese enter num of lines'))\n",
    "y=int(input('please enter a number of stars'))\n",
    "for i in range(1,x+1):# it is used for coloum(no. of lines)\n",
    "    for j in range(1,y+1):# it is used for row(no of stars in each line)\n",
    "        print('*',end='')\n",
    "    print('')        \n",
    "        "
   ]
  },
  {
   "cell_type": "code",
   "execution_count": 2,
   "id": "b5c8a89b",
   "metadata": {},
   "outputs": [
    {
     "name": "stdout",
     "output_type": "stream",
     "text": [
      "****\n",
      "****\n",
      "****\n",
      "****\n"
     ]
    }
   ],
   "source": [
    "# write a program to print a solid square\n",
    "n=4\n",
    "for i in range(1,n+1):\n",
    "    for j in range(1,n+1):\n",
    "        print('*',end='')\n",
    "    print('')    "
   ]
  },
  {
   "cell_type": "code",
   "execution_count": 5,
   "id": "23f8a873",
   "metadata": {},
   "outputs": [
    {
     "name": "stdout",
     "output_type": "stream",
     "text": [
      "please enter a n6\n",
      "1 2 3 4 5 6 \n",
      "1 2 3 4 5 6 \n",
      "1 2 3 4 5 6 \n",
      "1 2 3 4 5 6 \n",
      "1 2 3 4 5 6 \n",
      "1 2 3 4 5 6 \n"
     ]
    }
   ],
   "source": [
    "# print the given pattern\n",
    "'''\n",
    "1234\n",
    "1234\n",
    "1234\n",
    "1234\n",
    "'''\n",
    "n=int(input('please enter a n'))\n",
    "for i in range(1,n+1):# it is responsible for new lines \n",
    "    for j in range(1,n+1):# it is responsible for 1,2,3,4.....\n",
    "        print(j,end=' ')\n",
    "    print('')    "
   ]
  },
  {
   "cell_type": "code",
   "execution_count": 20,
   "id": "122ed4fd",
   "metadata": {},
   "outputs": [
    {
     "name": "stdout",
     "output_type": "stream",
     "text": [
      "* \n",
      "* * \n",
      "* * * \n",
      "* * * * \n",
      "* * * * * \n"
     ]
    }
   ],
   "source": [
    "'''\n",
    "* \n",
    "* * \n",
    "* * * \n",
    "* * * * \n",
    "* * * * *\n",
    "\n",
    "'''\n",
    "for i in range(1,6):\n",
    "    for j in range(1,6):\n",
    "        if j<=i:\n",
    "            print('*',end=' ')\n",
    "    print('')    "
   ]
  },
  {
   "cell_type": "code",
   "execution_count": 24,
   "id": "96731d5a",
   "metadata": {},
   "outputs": [
    {
     "name": "stdout",
     "output_type": "stream",
     "text": [
      "please enter n4\n",
      "love love love love \n",
      "love love love \n",
      "love love \n",
      "love \n"
     ]
    }
   ],
   "source": [
    "'''\n",
    "love love love love love \n",
    "love love love love \n",
    "love love love \n",
    "love love \n",
    "love\n",
    "\n",
    "'''\n",
    "n=int(input('please enter n'))\n",
    "for i in range(1,n+1):\n",
    "    for j in range(1,n+1):\n",
    "        if i<=j:\n",
    "            print('love',end=' ')\n",
    "    print('')        "
   ]
  },
  {
   "cell_type": "code",
   "execution_count": 23,
   "id": "d9f7c98f",
   "metadata": {},
   "outputs": [
    {
     "name": "stdout",
     "output_type": "stream",
     "text": [
      "please enter n5\n",
      "1 \n",
      "1 2 \n",
      "1 2 3 \n",
      "1 2 3 4 \n",
      "1 2 3 4 5 \n"
     ]
    }
   ],
   "source": [
    "'''\n",
    "1 \n",
    "1 2 \n",
    "1 2 3 \n",
    "1 2 3 4 \n",
    "1 2 3 4 5 \n",
    "'''\n",
    "n=int(input('please enter n'))\n",
    "for i in range(1,n+1):\n",
    "    for j in range(1,n+1):\n",
    "        if j<=i:\n",
    "            print(j,end=' ')\n",
    "    print('')  "
   ]
  },
  {
   "cell_type": "code",
   "execution_count": 55,
   "id": "e6c3e210",
   "metadata": {},
   "outputs": [
    {
     "name": "stdout",
     "output_type": "stream",
     "text": [
      "n5\n",
      "1 2 3 4 5 \n",
      "1 2 3 4 \n",
      "1 2 3 \n",
      "1 2 \n",
      "1 \n"
     ]
    }
   ],
   "source": [
    "n=int(input('n'))\n",
    "for i in range(1,n+1):\n",
    "    b=1\n",
    "    for j in range(1,n+1):\n",
    "        if i<=j:\n",
    "            print(b ,end=' ')\n",
    "            b=b+1\n",
    "    print('')        "
   ]
  },
  {
   "cell_type": "code",
   "execution_count": 43,
   "id": "997e1857",
   "metadata": {},
   "outputs": [
    {
     "name": "stdout",
     "output_type": "stream",
     "text": [
      "1 3 5 7 \n",
      "1 3 5 7 \n",
      "1 3 5 7 \n",
      "1 3 5 7 \n"
     ]
    }
   ],
   "source": [
    "# program to print a pattern of a odd number\n",
    "n=4\n",
    "b=n*2\n",
    "for i in range(1,n+1):\n",
    "    for j in range(1,b+1,2):\n",
    "        print(j,end=' ')\n",
    "    print('')  "
   ]
  },
  {
   "cell_type": "code",
   "execution_count": 54,
   "id": "754e5ed2",
   "metadata": {},
   "outputs": [
    {
     "name": "stdout",
     "output_type": "stream",
     "text": [
      "1 3 5 7 \n",
      "1 3 5 \n",
      "1 3 \n",
      "1 \n"
     ]
    }
   ],
   "source": [
    "'''\n",
    "program to print a odd nunber in a this pattern \n",
    "1 3 5 7 \n",
    "1 3 5 \n",
    "1 3 \n",
    "1 \n",
    "\n",
    "'''\n",
    "\n",
    "n=4\n",
    "\n",
    "for i in range (1,n+1):\n",
    "    b=1\n",
    "    for j in range(1,n+1):\n",
    "        if i <=j:\n",
    "            print(b,end=' ')\n",
    "            b=b+2\n",
    "    print('')       \n",
    "    "
   ]
  },
  {
   "cell_type": "code",
   "execution_count": 58,
   "id": "514a03b5",
   "metadata": {},
   "outputs": [
    {
     "name": "stdout",
     "output_type": "stream",
     "text": [
      "enter n10\n",
      "0  2  4  6  8  10  12  14  16  18  \n",
      "0  2  4  6  8  10  12  14  16  18  \n",
      "0  2  4  6  8  10  12  14  16  18  \n",
      "0  2  4  6  8  10  12  14  16  18  \n",
      "0  2  4  6  8  10  12  14  16  18  \n",
      "0  2  4  6  8  10  12  14  16  18  \n",
      "0  2  4  6  8  10  12  14  16  18  \n",
      "0  2  4  6  8  10  12  14  16  18  \n",
      "0  2  4  6  8  10  12  14  16  18  \n",
      "0  2  4  6  8  10  12  14  16  18  \n"
     ]
    }
   ],
   "source": [
    "# program to print a even number in a pattern \n",
    "n=int(input('enter n'))\n",
    "for i in range(1,n+1): # It can  work only for rows \n",
    "    b=0\n",
    "    for j in range(1,n+1): # it can work only for coloum\n",
    "        print(b,end='  ')\n",
    "        b=b+2\n",
    "    print('')    \n",
    "        \n",
    "        "
   ]
  },
  {
   "cell_type": "code",
   "execution_count": 61,
   "id": "bde2c1f7",
   "metadata": {},
   "outputs": [
    {
     "name": "stdout",
     "output_type": "stream",
     "text": [
      "enter n5\n",
      "0  2  4  6  8  \n",
      "10  12  14  16  18  \n",
      "20  22  24  26  28  \n",
      "30  32  34  36  38  \n",
      "40  42  44  46  48  \n"
     ]
    }
   ],
   "source": [
    "# program to print a even number in a pattern \n",
    "b=0\n",
    "n=int(input('enter n'))\n",
    "for i in range(1,n+1): # It can  work only for rows \n",
    "    for j in range(1,n+1): # it can work only for coloum\n",
    "        print(b,end='  ')\n",
    "        b=b+2\n",
    "    print('')"
   ]
  },
  {
   "cell_type": "code",
   "execution_count": 8,
   "id": "783e1dfc",
   "metadata": {},
   "outputs": [
    {
     "name": "stdout",
     "output_type": "stream",
     "text": [
      "A B C D E \n",
      "A B C D E \n",
      "A B C D E \n",
      "A B C D E \n",
      "A B C D E \n"
     ]
    }
   ],
   "source": [
    "'''\n",
    "ABCD\n",
    "ABCD\n",
    "ABCD\n",
    "ABCD\n",
    "'''\n",
    "n=5\n",
    "for i in range(1,n+1):\n",
    "    a=65\n",
    "    for j in range(1,n+1):\n",
    "        print(chr(a),end=' ')\n",
    "        a=a+1\n",
    "    print('')    \n",
    "        "
   ]
  },
  {
   "cell_type": "code",
   "execution_count": 74,
   "id": "53f19e6d",
   "metadata": {},
   "outputs": [
    {
     "data": {
      "text/plain": [
       "'\\nA\\nAB\\nABC\\nABCD\\nABCDE\\n\\n\\n\\n\\n'"
      ]
     },
     "execution_count": 74,
     "metadata": {},
     "output_type": "execute_result"
    }
   ],
   "source": [
    "'''\n",
    "A\n",
    "AB\n",
    "ABC\n",
    "ABCD\n",
    "ABCDE\n",
    "\n",
    "\n",
    "\n",
    "\n",
    "'''"
   ]
  },
  {
   "cell_type": "code",
   "execution_count": 75,
   "id": "d86ef097",
   "metadata": {},
   "outputs": [
    {
     "data": {
      "text/plain": [
       "'\\n1\\nAB\\n123\\nABCD\\n12345\\n'"
      ]
     },
     "execution_count": 75,
     "metadata": {},
     "output_type": "execute_result"
    }
   ],
   "source": [
    "'''\n",
    "1\n",
    "AB\n",
    "123\n",
    "ABCD\n",
    "12345\n",
    "'''\n"
   ]
  },
  {
   "cell_type": "code",
   "execution_count": 86,
   "id": "7d6913b6",
   "metadata": {},
   "outputs": [
    {
     "name": "stdout",
     "output_type": "stream",
     "text": [
      " # *  # *  # \n",
      " # *  # *  # \n",
      " # *  # *  # \n",
      " # *  # *  # \n",
      " # *  # *  # \n"
     ]
    }
   ],
   "source": [
    "# *  # *  # \n",
    " # *  # *  # \n",
    " # *  # *  # \n",
    " # *  # *  # \n",
    " # *  # *  # \n",
    "n=5\n",
    "for i in range(1,n+1):\n",
    "    for j in range(1,n+1):\n",
    "        if j % 2 ==0:\n",
    "            print('*',end=' ')\n",
    "        else:\n",
    "            print(' #',end=' ')\n",
    "    print('')        \n",
    "            "
   ]
  },
  {
   "cell_type": "code",
   "execution_count": 3,
   "id": "2ad148c8",
   "metadata": {},
   "outputs": [
    {
     "name": "stdout",
     "output_type": "stream",
     "text": [
      "    *     \n",
      "    *     \n",
      "* * * * * \n",
      "    *     \n",
      "    *     \n"
     ]
    }
   ],
   "source": [
    "n=5\n",
    "for i in range(1,n+1):\n",
    "    for j in range(1,n+1):\n",
    "        if i ==3 or j ==3:\n",
    "            print('*' ,end=' ')    \n",
    "        else:\n",
    "            print(' ',end=' ')\n",
    "    print('')       \n",
    "            "
   ]
  },
  {
   "cell_type": "code",
   "execution_count": null,
   "id": "3800adee",
   "metadata": {},
   "outputs": [],
   "source": [
    "# program to print hellow rectangle \n",
    "'''\n",
    "******\n",
    "*    *\n",
    "*    *\n",
    "******\n",
    "'''\n",
    "            "
   ]
  },
  {
   "cell_type": "code",
   "execution_count": 111,
   "id": "577df2cb",
   "metadata": {},
   "outputs": [
    {
     "name": "stdout",
     "output_type": "stream",
     "text": [
      "a\n"
     ]
    }
   ],
   "source": [
    "print('a')"
   ]
  },
  {
   "cell_type": "code",
   "execution_count": 4,
   "id": "a477f82a",
   "metadata": {},
   "outputs": [
    {
     "data": {
      "text/plain": [
       "'\\n*\\n *\\n  *\\n   *\\n  \\n'"
      ]
     },
     "execution_count": 4,
     "metadata": {},
     "output_type": "execute_result"
    }
   ],
   "source": [
    "'''\n",
    "*\n",
    " *\n",
    "  *\n",
    "   *\n",
    "  \n",
    "'''\n"
   ]
  },
  {
   "cell_type": "code",
   "execution_count": 6,
   "id": "e96548ea",
   "metadata": {},
   "outputs": [
    {
     "name": "stdout",
     "output_type": "stream",
     "text": [
      "A\n"
     ]
    }
   ],
   "source": [
    "a=chr(65)\n",
    "print(a)"
   ]
  },
  {
   "cell_type": "code",
   "execution_count": 11,
   "id": "5b1bf6e5",
   "metadata": {},
   "outputs": [
    {
     "name": "stdout",
     "output_type": "stream",
     "text": [
      "*\n",
      "\n",
      "\n",
      "\n",
      "\n",
      "*\n",
      "\n",
      "\n",
      "\n",
      "\n",
      "*\n",
      "\n",
      "\n",
      "\n",
      "\n",
      "*\n",
      "\n",
      "\n",
      "\n",
      "\n",
      "*"
     ]
    }
   ],
   "source": [
    "n=5\n",
    "for i in range(1,n+1):\n",
    "    for j in range(1,n+1):\n",
    "        if i == j:\n",
    "            print('*',end='')\n",
    "        else: print('')      "
   ]
  },
  {
   "cell_type": "code",
   "execution_count": 22,
   "id": "bb0f5695",
   "metadata": {},
   "outputs": [
    {
     "name": "stdout",
     "output_type": "stream",
     "text": [
      "*   * \n",
      " * *  \n",
      "  *   \n",
      " * *  \n",
      "*   * \n"
     ]
    }
   ],
   "source": [
    "'''\n",
    "*   * \n",
    " * *  \n",
    "  *   \n",
    " * *  \n",
    "*   * \n",
    "\n",
    "\n",
    "'''\n",
    "\n",
    "\n",
    "n=5\n",
    "for i in range(1,n+1):\n",
    "    for j in range(1,n+1):\n",
    "        if (i ==  j or i+j == n+1):\n",
    "            print('*',end='')\n",
    "        else: \n",
    "            print(' ',end='')\n",
    "    print(' ')   "
   ]
  },
  {
   "cell_type": "code",
   "execution_count": 28,
   "id": "8009acc2",
   "metadata": {},
   "outputs": [
    {
     "name": "stdout",
     "output_type": "stream",
     "text": [
      "1  \n",
      "2 3  \n",
      "4 5 6  \n",
      "7 8 9 10  \n",
      "11 12 13 14 15  \n"
     ]
    }
   ],
   "source": [
    "'''\n",
    "1  \n",
    "2 3  \n",
    "4 5 6  \n",
    "7 8 9 10  \n",
    "11 12 13 14 15 '''\n",
    "n=5\n",
    "count =1\n",
    "for i in range (1,n+1):\n",
    "    for j in range(1,n+1):\n",
    "        if j<= i:\n",
    "            print(count, end =' ')\n",
    "            count=count+1\n",
    "    print(' ')       "
   ]
  },
  {
   "cell_type": "code",
   "execution_count": 27,
   "id": "543bc35e",
   "metadata": {},
   "outputs": [
    {
     "name": "stdout",
     "output_type": "stream",
     "text": [
      "1  \n",
      "3 5  \n",
      "7 9 11  \n",
      "13 15 17 19  \n",
      "21 23 25 27 29  \n"
     ]
    }
   ],
   "source": [
    "'''\n",
    "1  \n",
    "3 5  \n",
    "7 9 11  \n",
    "13 15 17 19  \n",
    "21 23 25 27 29 '''\n",
    "n=5\n",
    "count =1\n",
    "for i in range (1,n+1):\n",
    "    for j in range(1,n+1):\n",
    "        if j<= i:\n",
    "            print(count, end =' ')\n",
    "            count=count+2\n",
    "    print(' ')\n"
   ]
  },
  {
   "cell_type": "code",
   "execution_count": 36,
   "id": "052077d9",
   "metadata": {},
   "outputs": [
    {
     "name": "stdout",
     "output_type": "stream",
     "text": [
      "1\n",
      "10\n",
      "101\n",
      "1010\n",
      "10101\n",
      "101010\n",
      "1010101\n",
      "10101010\n",
      "101010101\n",
      "1010101010\n",
      "10101010101\n"
     ]
    }
   ],
   "source": [
    "n=12 \n",
    "for i in range(1,12):\n",
    "    for j in range(1,12):\n",
    "        if j<=i:\n",
    "            if j%2 == 0:\n",
    "                print('0',end='')\n",
    "            else:\n",
    "                print('1',end='')\n",
    "    print('')       "
   ]
  },
  {
   "cell_type": "code",
   "execution_count": 45,
   "id": "a4df6665",
   "metadata": {},
   "outputs": [
    {
     "name": "stdout",
     "output_type": "stream",
     "text": [
      "          * \n",
      "        * * \n",
      "      * * * \n",
      "    * * * * \n",
      "  * * * * * \n"
     ]
    }
   ],
   "source": [
    "'''\n",
    "          * \n",
    "        * * \n",
    "      * * * \n",
    "    * * * * \n",
    "  * * * * * \n",
    "'''\n",
    "\n",
    "for i in range(1,6):\n",
    "    for j in range(1,6):\n",
    "        if i <=j:\n",
    "            print(' ',end=' ')\n",
    "    for k in range(1,6):\n",
    "        if k<=i:\n",
    "            print('*',end=' ')\n",
    "    print('')        "
   ]
  },
  {
   "cell_type": "code",
   "execution_count": 46,
   "id": "5b75b149",
   "metadata": {},
   "outputs": [
    {
     "data": {
      "text/plain": [
       "'\\n   ****\\n  ****\\n **** \\n****\\n'"
      ]
     },
     "execution_count": 46,
     "metadata": {},
     "output_type": "execute_result"
    }
   ],
   "source": [
    "'''\n",
    "---****     it is a basically follow a logic of square -triangle   \n",
    "--****-\n",
    "-****-- \n",
    "****---\n",
    "'''"
   ]
  },
  {
   "cell_type": "code",
   "execution_count": 48,
   "id": "db4ab9b2",
   "metadata": {},
   "outputs": [
    {
     "name": "stdout",
     "output_type": "stream",
     "text": [
      "*****\n"
     ]
    }
   ],
   "source": [
    "''' \n",
    "              * \n",
    "            * * \n",
    "          * * * \n",
    "        * * * * \n",
    "      * * * * * \n",
    "      \n",
    "   A   \n",
    "  AB    -> IT CAN FOLLOW A UPPER LOGIC \n",
    " ABC\n",
    "ABCD \n",
    "\n",
    "'''\n",
    "a=3\n",
    "b=2*a-1\n",
    "print(b*'*')"
   ]
  },
  {
   "cell_type": "code",
   "execution_count": null,
   "id": "55cd67c1",
   "metadata": {},
   "outputs": [],
   "source": [
    "'''\n",
    "solve the pyramind based problem of stars\n",
    "\n",
    "'''"
   ]
  }
 ],
 "metadata": {
  "kernelspec": {
   "display_name": "Python 3 (ipykernel)",
   "language": "python",
   "name": "python3"
  },
  "language_info": {
   "codemirror_mode": {
    "name": "ipython",
    "version": 3
   },
   "file_extension": ".py",
   "mimetype": "text/x-python",
   "name": "python",
   "nbconvert_exporter": "python",
   "pygments_lexer": "ipython3",
   "version": "3.9.12"
  }
 },
 "nbformat": 4,
 "nbformat_minor": 5
}
